{
  "nbformat": 4,
  "nbformat_minor": 0,
  "metadata": {
    "colab": {
      "name": "Assignment on Regression technique.ipynb",
      "provenance": [],
      "collapsed_sections": []
    },
    "kernelspec": {
      "name": "python3",
      "display_name": "Python 3"
    },
    "language_info": {
      "name": "python"
    }
  },
  "cells": [
    {
      "cell_type": "markdown",
      "metadata": {
        "id": "gS6gso-VBVDX"
      },
      "source": [
        "**Importing the required libraries**"
      ]
    },
    {
      "cell_type": "code",
      "metadata": {
        "id": "GmOzUOBgb0P5"
      },
      "source": [
        "import numpy as np\n",
        "import pandas as pd"
      ],
      "execution_count": null,
      "outputs": []
    },
    {
      "cell_type": "markdown",
      "metadata": {
        "id": "6JZ4FZdWBOGR"
      },
      "source": [
        "**Reading the Dataset**"
      ]
    },
    {
      "cell_type": "code",
      "metadata": {
        "id": "jqefvpvDdEyp",
        "colab": {
          "base_uri": "https://localhost:8080/",
          "height": 443
        },
        "outputId": "8c02fdc4-1b4b-40ad-c20e-361fd3faac1e"
      },
      "source": [
        "rdata = pd.read_csv(\"Regression_Datatset_batch2.csv\")\n",
        "rdata"
      ],
      "execution_count": null,
      "outputs": [
        {
          "output_type": "execute_result",
          "data": {
            "text/html": [
              "<div>\n",
              "<style scoped>\n",
              "    .dataframe tbody tr th:only-of-type {\n",
              "        vertical-align: middle;\n",
              "    }\n",
              "\n",
              "    .dataframe tbody tr th {\n",
              "        vertical-align: top;\n",
              "    }\n",
              "\n",
              "    .dataframe thead th {\n",
              "        text-align: right;\n",
              "    }\n",
              "</style>\n",
              "<table border=\"1\" class=\"dataframe\">\n",
              "  <thead>\n",
              "    <tr style=\"text-align: right;\">\n",
              "      <th></th>\n",
              "      <th>price</th>\n",
              "      <th>lotsize</th>\n",
              "      <th>bedrooms</th>\n",
              "      <th>bathrms</th>\n",
              "      <th>stories</th>\n",
              "      <th>driveway</th>\n",
              "      <th>recroom</th>\n",
              "      <th>fullbase</th>\n",
              "      <th>gashw</th>\n",
              "      <th>airco</th>\n",
              "      <th>garagepl</th>\n",
              "      <th>prefarea</th>\n",
              "    </tr>\n",
              "  </thead>\n",
              "  <tbody>\n",
              "    <tr>\n",
              "      <th>0</th>\n",
              "      <td>42000.0</td>\n",
              "      <td>5850</td>\n",
              "      <td>3</td>\n",
              "      <td>1</td>\n",
              "      <td>two</td>\n",
              "      <td>yes</td>\n",
              "      <td>no</td>\n",
              "      <td>yes</td>\n",
              "      <td>no</td>\n",
              "      <td>no</td>\n",
              "      <td>1</td>\n",
              "      <td>no</td>\n",
              "    </tr>\n",
              "    <tr>\n",
              "      <th>1</th>\n",
              "      <td>38500.0</td>\n",
              "      <td>4000</td>\n",
              "      <td>2</td>\n",
              "      <td>1</td>\n",
              "      <td>one</td>\n",
              "      <td>yes</td>\n",
              "      <td>no</td>\n",
              "      <td>no</td>\n",
              "      <td>no</td>\n",
              "      <td>no</td>\n",
              "      <td>0</td>\n",
              "      <td>no</td>\n",
              "    </tr>\n",
              "    <tr>\n",
              "      <th>2</th>\n",
              "      <td>49500.0</td>\n",
              "      <td>3060</td>\n",
              "      <td>3</td>\n",
              "      <td>1</td>\n",
              "      <td>one</td>\n",
              "      <td>yes</td>\n",
              "      <td>no</td>\n",
              "      <td>no</td>\n",
              "      <td>no</td>\n",
              "      <td>no</td>\n",
              "      <td>0</td>\n",
              "      <td>no</td>\n",
              "    </tr>\n",
              "    <tr>\n",
              "      <th>3</th>\n",
              "      <td>60500.0</td>\n",
              "      <td>6650</td>\n",
              "      <td>3</td>\n",
              "      <td>1</td>\n",
              "      <td>two</td>\n",
              "      <td>yes</td>\n",
              "      <td>yes</td>\n",
              "      <td>no</td>\n",
              "      <td>no</td>\n",
              "      <td>no</td>\n",
              "      <td>0</td>\n",
              "      <td>no</td>\n",
              "    </tr>\n",
              "    <tr>\n",
              "      <th>4</th>\n",
              "      <td>61000.0</td>\n",
              "      <td>6360</td>\n",
              "      <td>2</td>\n",
              "      <td>1</td>\n",
              "      <td>one</td>\n",
              "      <td>yes</td>\n",
              "      <td>no</td>\n",
              "      <td>no</td>\n",
              "      <td>no</td>\n",
              "      <td>no</td>\n",
              "      <td>0</td>\n",
              "      <td>no</td>\n",
              "    </tr>\n",
              "    <tr>\n",
              "      <th>...</th>\n",
              "      <td>...</td>\n",
              "      <td>...</td>\n",
              "      <td>...</td>\n",
              "      <td>...</td>\n",
              "      <td>...</td>\n",
              "      <td>...</td>\n",
              "      <td>...</td>\n",
              "      <td>...</td>\n",
              "      <td>...</td>\n",
              "      <td>...</td>\n",
              "      <td>...</td>\n",
              "      <td>...</td>\n",
              "    </tr>\n",
              "    <tr>\n",
              "      <th>541</th>\n",
              "      <td>91500.0</td>\n",
              "      <td>4800</td>\n",
              "      <td>3</td>\n",
              "      <td>2</td>\n",
              "      <td>four</td>\n",
              "      <td>yes</td>\n",
              "      <td>yes</td>\n",
              "      <td>no</td>\n",
              "      <td>no</td>\n",
              "      <td>yes</td>\n",
              "      <td>0</td>\n",
              "      <td>no</td>\n",
              "    </tr>\n",
              "    <tr>\n",
              "      <th>542</th>\n",
              "      <td>94000.0</td>\n",
              "      <td>6000</td>\n",
              "      <td>3</td>\n",
              "      <td>2</td>\n",
              "      <td>four</td>\n",
              "      <td>yes</td>\n",
              "      <td>no</td>\n",
              "      <td>no</td>\n",
              "      <td>no</td>\n",
              "      <td>yes</td>\n",
              "      <td>0</td>\n",
              "      <td>no</td>\n",
              "    </tr>\n",
              "    <tr>\n",
              "      <th>543</th>\n",
              "      <td>103000.0</td>\n",
              "      <td>6000</td>\n",
              "      <td>3</td>\n",
              "      <td>2</td>\n",
              "      <td>four</td>\n",
              "      <td>yes</td>\n",
              "      <td>yes</td>\n",
              "      <td>no</td>\n",
              "      <td>no</td>\n",
              "      <td>yes</td>\n",
              "      <td>1</td>\n",
              "      <td>no</td>\n",
              "    </tr>\n",
              "    <tr>\n",
              "      <th>544</th>\n",
              "      <td>105000.0</td>\n",
              "      <td>6000</td>\n",
              "      <td>3</td>\n",
              "      <td>2</td>\n",
              "      <td>two</td>\n",
              "      <td>yes</td>\n",
              "      <td>yes</td>\n",
              "      <td>no</td>\n",
              "      <td>no</td>\n",
              "      <td>yes</td>\n",
              "      <td>1</td>\n",
              "      <td>no</td>\n",
              "    </tr>\n",
              "    <tr>\n",
              "      <th>545</th>\n",
              "      <td>105000.0</td>\n",
              "      <td>6000</td>\n",
              "      <td>3</td>\n",
              "      <td>1</td>\n",
              "      <td>two</td>\n",
              "      <td>yes</td>\n",
              "      <td>no</td>\n",
              "      <td>no</td>\n",
              "      <td>no</td>\n",
              "      <td>yes</td>\n",
              "      <td>1</td>\n",
              "      <td>no</td>\n",
              "    </tr>\n",
              "  </tbody>\n",
              "</table>\n",
              "<p>546 rows × 12 columns</p>\n",
              "</div>"
            ],
            "text/plain": [
              "        price  lotsize  bedrooms  bathrms  ... gashw airco garagepl prefarea\n",
              "0     42000.0     5850         3        1  ...    no    no        1       no\n",
              "1     38500.0     4000         2        1  ...    no    no        0       no\n",
              "2     49500.0     3060         3        1  ...    no    no        0       no\n",
              "3     60500.0     6650         3        1  ...    no    no        0       no\n",
              "4     61000.0     6360         2        1  ...    no    no        0       no\n",
              "..        ...      ...       ...      ...  ...   ...   ...      ...      ...\n",
              "541   91500.0     4800         3        2  ...    no   yes        0       no\n",
              "542   94000.0     6000         3        2  ...    no   yes        0       no\n",
              "543  103000.0     6000         3        2  ...    no   yes        1       no\n",
              "544  105000.0     6000         3        2  ...    no   yes        1       no\n",
              "545  105000.0     6000         3        1  ...    no   yes        1       no\n",
              "\n",
              "[546 rows x 12 columns]"
            ]
          },
          "metadata": {},
          "execution_count": 2
        }
      ]
    },
    {
      "cell_type": "markdown",
      "metadata": {
        "id": "7vyswhz3BDIZ"
      },
      "source": [
        "**Finding null values**"
      ]
    },
    {
      "cell_type": "code",
      "metadata": {
        "colab": {
          "base_uri": "https://localhost:8080/"
        },
        "id": "g70v75JcdmdL",
        "outputId": "98c69b8e-a55a-4ed2-c6b0-5ac2c10b1ae0"
      },
      "source": [
        "rdata.isnull().sum()"
      ],
      "execution_count": null,
      "outputs": [
        {
          "output_type": "execute_result",
          "data": {
            "text/plain": [
              "price       0\n",
              "lotsize     0\n",
              "bedrooms    0\n",
              "bathrms     0\n",
              "stories     0\n",
              "driveway    0\n",
              "recroom     0\n",
              "fullbase    0\n",
              "gashw       0\n",
              "airco       0\n",
              "garagepl    0\n",
              "prefarea    0\n",
              "dtype: int64"
            ]
          },
          "metadata": {},
          "execution_count": 3
        }
      ]
    },
    {
      "cell_type": "markdown",
      "metadata": {
        "id": "d-b8DLJd7Yh2"
      },
      "source": [
        "**Converting catogorical values to numeric values**"
      ]
    },
    {
      "cell_type": "code",
      "metadata": {
        "id": "VF7TtDBNhLWu"
      },
      "source": [
        "df = pd.DataFrame(rdata)"
      ],
      "execution_count": null,
      "outputs": []
    },
    {
      "cell_type": "code",
      "metadata": {
        "id": "XLA1iJXikekj"
      },
      "source": [
        "df['driveway'] = df.driveway.map(dict(yes=1, no=0))\n",
        "df['recroom']= df.recroom.map(dict(yes=1, no=0))\n",
        "df['fullbase'] = df.fullbase.map(dict(yes=1, no=0))\n",
        "df['gashw'] = df.gashw.map(dict(yes=1, no=0))\n",
        "df['airco'] = df.airco.map(dict(yes=1, no=0))\t\n",
        "df['stories'] = df.stories.map(dict(one=1, two=2, three=3, four=4))\n",
        "df['prefarea'] = df.prefarea.map(dict(yes=1, no=0))"
      ],
      "execution_count": null,
      "outputs": []
    },
    {
      "cell_type": "code",
      "metadata": {
        "colab": {
          "base_uri": "https://localhost:8080/",
          "height": 443
        },
        "id": "6Cwq-ZHnn35z",
        "outputId": "c412dc77-2acb-4dc0-a524-7a75cb244f9c"
      },
      "source": [
        "df"
      ],
      "execution_count": null,
      "outputs": [
        {
          "output_type": "execute_result",
          "data": {
            "text/html": [
              "<div>\n",
              "<style scoped>\n",
              "    .dataframe tbody tr th:only-of-type {\n",
              "        vertical-align: middle;\n",
              "    }\n",
              "\n",
              "    .dataframe tbody tr th {\n",
              "        vertical-align: top;\n",
              "    }\n",
              "\n",
              "    .dataframe thead th {\n",
              "        text-align: right;\n",
              "    }\n",
              "</style>\n",
              "<table border=\"1\" class=\"dataframe\">\n",
              "  <thead>\n",
              "    <tr style=\"text-align: right;\">\n",
              "      <th></th>\n",
              "      <th>price</th>\n",
              "      <th>lotsize</th>\n",
              "      <th>bedrooms</th>\n",
              "      <th>bathrms</th>\n",
              "      <th>stories</th>\n",
              "      <th>driveway</th>\n",
              "      <th>recroom</th>\n",
              "      <th>fullbase</th>\n",
              "      <th>gashw</th>\n",
              "      <th>airco</th>\n",
              "      <th>garagepl</th>\n",
              "      <th>prefarea</th>\n",
              "    </tr>\n",
              "  </thead>\n",
              "  <tbody>\n",
              "    <tr>\n",
              "      <th>0</th>\n",
              "      <td>42000.0</td>\n",
              "      <td>5850</td>\n",
              "      <td>3</td>\n",
              "      <td>1</td>\n",
              "      <td>2</td>\n",
              "      <td>1</td>\n",
              "      <td>0</td>\n",
              "      <td>1</td>\n",
              "      <td>0</td>\n",
              "      <td>0</td>\n",
              "      <td>1</td>\n",
              "      <td>0</td>\n",
              "    </tr>\n",
              "    <tr>\n",
              "      <th>1</th>\n",
              "      <td>38500.0</td>\n",
              "      <td>4000</td>\n",
              "      <td>2</td>\n",
              "      <td>1</td>\n",
              "      <td>1</td>\n",
              "      <td>1</td>\n",
              "      <td>0</td>\n",
              "      <td>0</td>\n",
              "      <td>0</td>\n",
              "      <td>0</td>\n",
              "      <td>0</td>\n",
              "      <td>0</td>\n",
              "    </tr>\n",
              "    <tr>\n",
              "      <th>2</th>\n",
              "      <td>49500.0</td>\n",
              "      <td>3060</td>\n",
              "      <td>3</td>\n",
              "      <td>1</td>\n",
              "      <td>1</td>\n",
              "      <td>1</td>\n",
              "      <td>0</td>\n",
              "      <td>0</td>\n",
              "      <td>0</td>\n",
              "      <td>0</td>\n",
              "      <td>0</td>\n",
              "      <td>0</td>\n",
              "    </tr>\n",
              "    <tr>\n",
              "      <th>3</th>\n",
              "      <td>60500.0</td>\n",
              "      <td>6650</td>\n",
              "      <td>3</td>\n",
              "      <td>1</td>\n",
              "      <td>2</td>\n",
              "      <td>1</td>\n",
              "      <td>1</td>\n",
              "      <td>0</td>\n",
              "      <td>0</td>\n",
              "      <td>0</td>\n",
              "      <td>0</td>\n",
              "      <td>0</td>\n",
              "    </tr>\n",
              "    <tr>\n",
              "      <th>4</th>\n",
              "      <td>61000.0</td>\n",
              "      <td>6360</td>\n",
              "      <td>2</td>\n",
              "      <td>1</td>\n",
              "      <td>1</td>\n",
              "      <td>1</td>\n",
              "      <td>0</td>\n",
              "      <td>0</td>\n",
              "      <td>0</td>\n",
              "      <td>0</td>\n",
              "      <td>0</td>\n",
              "      <td>0</td>\n",
              "    </tr>\n",
              "    <tr>\n",
              "      <th>...</th>\n",
              "      <td>...</td>\n",
              "      <td>...</td>\n",
              "      <td>...</td>\n",
              "      <td>...</td>\n",
              "      <td>...</td>\n",
              "      <td>...</td>\n",
              "      <td>...</td>\n",
              "      <td>...</td>\n",
              "      <td>...</td>\n",
              "      <td>...</td>\n",
              "      <td>...</td>\n",
              "      <td>...</td>\n",
              "    </tr>\n",
              "    <tr>\n",
              "      <th>541</th>\n",
              "      <td>91500.0</td>\n",
              "      <td>4800</td>\n",
              "      <td>3</td>\n",
              "      <td>2</td>\n",
              "      <td>4</td>\n",
              "      <td>1</td>\n",
              "      <td>1</td>\n",
              "      <td>0</td>\n",
              "      <td>0</td>\n",
              "      <td>1</td>\n",
              "      <td>0</td>\n",
              "      <td>0</td>\n",
              "    </tr>\n",
              "    <tr>\n",
              "      <th>542</th>\n",
              "      <td>94000.0</td>\n",
              "      <td>6000</td>\n",
              "      <td>3</td>\n",
              "      <td>2</td>\n",
              "      <td>4</td>\n",
              "      <td>1</td>\n",
              "      <td>0</td>\n",
              "      <td>0</td>\n",
              "      <td>0</td>\n",
              "      <td>1</td>\n",
              "      <td>0</td>\n",
              "      <td>0</td>\n",
              "    </tr>\n",
              "    <tr>\n",
              "      <th>543</th>\n",
              "      <td>103000.0</td>\n",
              "      <td>6000</td>\n",
              "      <td>3</td>\n",
              "      <td>2</td>\n",
              "      <td>4</td>\n",
              "      <td>1</td>\n",
              "      <td>1</td>\n",
              "      <td>0</td>\n",
              "      <td>0</td>\n",
              "      <td>1</td>\n",
              "      <td>1</td>\n",
              "      <td>0</td>\n",
              "    </tr>\n",
              "    <tr>\n",
              "      <th>544</th>\n",
              "      <td>105000.0</td>\n",
              "      <td>6000</td>\n",
              "      <td>3</td>\n",
              "      <td>2</td>\n",
              "      <td>2</td>\n",
              "      <td>1</td>\n",
              "      <td>1</td>\n",
              "      <td>0</td>\n",
              "      <td>0</td>\n",
              "      <td>1</td>\n",
              "      <td>1</td>\n",
              "      <td>0</td>\n",
              "    </tr>\n",
              "    <tr>\n",
              "      <th>545</th>\n",
              "      <td>105000.0</td>\n",
              "      <td>6000</td>\n",
              "      <td>3</td>\n",
              "      <td>1</td>\n",
              "      <td>2</td>\n",
              "      <td>1</td>\n",
              "      <td>0</td>\n",
              "      <td>0</td>\n",
              "      <td>0</td>\n",
              "      <td>1</td>\n",
              "      <td>1</td>\n",
              "      <td>0</td>\n",
              "    </tr>\n",
              "  </tbody>\n",
              "</table>\n",
              "<p>546 rows × 12 columns</p>\n",
              "</div>"
            ],
            "text/plain": [
              "        price  lotsize  bedrooms  bathrms  ...  gashw  airco  garagepl  prefarea\n",
              "0     42000.0     5850         3        1  ...      0      0         1         0\n",
              "1     38500.0     4000         2        1  ...      0      0         0         0\n",
              "2     49500.0     3060         3        1  ...      0      0         0         0\n",
              "3     60500.0     6650         3        1  ...      0      0         0         0\n",
              "4     61000.0     6360         2        1  ...      0      0         0         0\n",
              "..        ...      ...       ...      ...  ...    ...    ...       ...       ...\n",
              "541   91500.0     4800         3        2  ...      0      1         0         0\n",
              "542   94000.0     6000         3        2  ...      0      1         0         0\n",
              "543  103000.0     6000         3        2  ...      0      1         1         0\n",
              "544  105000.0     6000         3        2  ...      0      1         1         0\n",
              "545  105000.0     6000         3        1  ...      0      1         1         0\n",
              "\n",
              "[546 rows x 12 columns]"
            ]
          },
          "metadata": {},
          "execution_count": 6
        }
      ]
    },
    {
      "cell_type": "markdown",
      "metadata": {
        "id": "cWcPTJA2PJLr"
      },
      "source": [
        "**Correlation Matrix**"
      ]
    },
    {
      "cell_type": "code",
      "metadata": {
        "id": "J2Sf-E2tO6iI"
      },
      "source": [
        "import seaborn as sns"
      ],
      "execution_count": null,
      "outputs": []
    },
    {
      "cell_type": "code",
      "metadata": {
        "id": "BrQCng9tr35S"
      },
      "source": [
        "import matplotlib.pyplot as plt"
      ],
      "execution_count": null,
      "outputs": []
    },
    {
      "cell_type": "code",
      "metadata": {
        "id": "eq7WhaQGOsqV"
      },
      "source": [
        "corm = df.corr()"
      ],
      "execution_count": null,
      "outputs": []
    },
    {
      "cell_type": "code",
      "metadata": {
        "colab": {
          "base_uri": "https://localhost:8080/",
          "height": 309
        },
        "id": "b0uD0QQVO-DB",
        "outputId": "72133628-9a3d-4bd8-fffe-421d5363dbbf"
      },
      "source": [
        "sns.heatmap(corm, annot = True)\n",
        "plt.show()"
      ],
      "execution_count": null,
      "outputs": [
        {
          "output_type": "display_data",
          "data": {
            "image/png": "[encoded data removed]",
            "text/plain": [
              "<Figure size 432x288 with 2 Axes>"
            ]
          },
          "metadata": {
            "needs_background": "light"
          }
        }
      ]
    },
    {
      "cell_type": "code",
      "metadata": {
        "colab": {
          "base_uri": "https://localhost:8080/"
        },
        "id": "WpZQ1gFq-L9m",
        "outputId": "45745956-f3d0-4987-b861-4b5bfbae5957"
      },
      "source": [
        "cor = df.corr()\n",
        "cor_target = abs(cor[\"price\"])\n",
        "#Selecting highly correlated features\n",
        "relevant_features = cor_target[cor_target >= 0.4]\n",
        "relevant_features"
      ],
      "execution_count": null,
      "outputs": [
        {
          "output_type": "execute_result",
          "data": {
            "text/plain": [
              "price      1.000000\n",
              "lotsize    0.535796\n",
              "bathrms    0.516719\n",
              "stories    0.421190\n",
              "airco      0.453347\n",
              "Name: price, dtype: float64"
            ]
          },
          "metadata": {},
          "execution_count": 11
        }
      ]
    },
    {
      "cell_type": "code",
      "metadata": {
        "colab": {
          "base_uri": "https://localhost:8080/"
        },
        "id": "YSz8WE_E-ubp",
        "outputId": "7fcaf22b-03b2-4a7d-c84d-e40f7e20bb3e"
      },
      "source": [
        "print(df[[\"lotsize\",\"bathrms\",\"stories\",\"airco\"]].corr())\n"
      ],
      "execution_count": null,
      "outputs": [
        {
          "output_type": "stream",
          "name": "stdout",
          "text": [
            "          lotsize   bathrms   stories     airco\n",
            "lotsize  1.000000  0.193833  0.083675  0.221765\n",
            "bathrms  0.193833  1.000000  0.324066  0.184955\n",
            "stories  0.083675  0.324066  1.000000  0.296216\n",
            "airco    0.221765  0.184955  0.296216  1.000000\n"
          ]
        }
      ]
    },
    {
      "cell_type": "markdown",
      "metadata": {
        "id": "nmoRQ8ZI7oOE"
      },
      "source": [
        "**Splitting data in training and testing**"
      ]
    },
    {
      "cell_type": "code",
      "metadata": {
        "id": "3PmW6oSCfzLl"
      },
      "source": [
        "from sklearn.model_selection import train_test_split"
      ],
      "execution_count": null,
      "outputs": []
    },
    {
      "cell_type": "code",
      "metadata": {
        "id": "DNUpEcvDqtMQ"
      },
      "source": [
        "x = df[[ 'lotsize',\t'bathrms', 'bedrooms','airco']]\n",
        "y = df[['price']]"
      ],
      "execution_count": null,
      "outputs": []
    },
    {
      "cell_type": "code",
      "metadata": {
        "id": "8OypuHtafJME",
        "colab": {
          "base_uri": "https://localhost:8080/"
        },
        "outputId": "fac2027e-1740-4c62-cf5f-69fef57159cf"
      },
      "source": [
        "x_train,x_test,y_train, y_test = train_test_split(x, y, test_size=0.25, random_state=42)\n",
        "print(\"Length of x_train = \",len(x_train))\n",
        "print(\"Length of x_test = \",len(x_test))\n",
        "print(\"Length of y_train = \",len(y_train))\n",
        "print(\"Length of y_test = \",len(y_test))"
      ],
      "execution_count": null,
      "outputs": [
        {
          "output_type": "stream",
          "name": "stdout",
          "text": [
            "Length of x_train =  409\n",
            "Length of x_test =  137\n",
            "Length of y_train =  409\n",
            "Length of y_test =  137\n"
          ]
        }
      ]
    },
    {
      "cell_type": "code",
      "metadata": {
        "colab": {
          "base_uri": "https://localhost:8080/",
          "height": 423
        },
        "id": "yNQl85fK1ySA",
        "outputId": "8e062fe1-b0f4-4ef4-f385-ac1fc0348e05"
      },
      "source": [
        "x_train"
      ],
      "execution_count": null,
      "outputs": [
        {
          "output_type": "execute_result",
          "data": {
            "text/html": [
              "<div>\n",
              "<style scoped>\n",
              "    .dataframe tbody tr th:only-of-type {\n",
              "        vertical-align: middle;\n",
              "    }\n",
              "\n",
              "    .dataframe tbody tr th {\n",
              "        vertical-align: top;\n",
              "    }\n",
              "\n",
              "    .dataframe thead th {\n",
              "        text-align: right;\n",
              "    }\n",
              "</style>\n",
              "<table border=\"1\" class=\"dataframe\">\n",
              "  <thead>\n",
              "    <tr style=\"text-align: right;\">\n",
              "      <th></th>\n",
              "      <th>lotsize</th>\n",
              "      <th>bathrms</th>\n",
              "      <th>bedrooms</th>\n",
              "      <th>airco</th>\n",
              "    </tr>\n",
              "  </thead>\n",
              "  <tbody>\n",
              "    <tr>\n",
              "      <th>167</th>\n",
              "      <td>2800</td>\n",
              "      <td>1</td>\n",
              "      <td>3</td>\n",
              "      <td>0</td>\n",
              "    </tr>\n",
              "    <tr>\n",
              "      <th>368</th>\n",
              "      <td>16200</td>\n",
              "      <td>3</td>\n",
              "      <td>5</td>\n",
              "      <td>0</td>\n",
              "    </tr>\n",
              "    <tr>\n",
              "      <th>301</th>\n",
              "      <td>8080</td>\n",
              "      <td>1</td>\n",
              "      <td>3</td>\n",
              "      <td>1</td>\n",
              "    </tr>\n",
              "    <tr>\n",
              "      <th>493</th>\n",
              "      <td>8400</td>\n",
              "      <td>1</td>\n",
              "      <td>2</td>\n",
              "      <td>0</td>\n",
              "    </tr>\n",
              "    <tr>\n",
              "      <th>382</th>\n",
              "      <td>13200</td>\n",
              "      <td>1</td>\n",
              "      <td>3</td>\n",
              "      <td>1</td>\n",
              "    </tr>\n",
              "    <tr>\n",
              "      <th>...</th>\n",
              "      <td>...</td>\n",
              "      <td>...</td>\n",
              "      <td>...</td>\n",
              "      <td>...</td>\n",
              "    </tr>\n",
              "    <tr>\n",
              "      <th>71</th>\n",
              "      <td>3150</td>\n",
              "      <td>1</td>\n",
              "      <td>3</td>\n",
              "      <td>0</td>\n",
              "    </tr>\n",
              "    <tr>\n",
              "      <th>106</th>\n",
              "      <td>3720</td>\n",
              "      <td>1</td>\n",
              "      <td>2</td>\n",
              "      <td>1</td>\n",
              "    </tr>\n",
              "    <tr>\n",
              "      <th>270</th>\n",
              "      <td>3640</td>\n",
              "      <td>2</td>\n",
              "      <td>3</td>\n",
              "      <td>0</td>\n",
              "    </tr>\n",
              "    <tr>\n",
              "      <th>435</th>\n",
              "      <td>5300</td>\n",
              "      <td>2</td>\n",
              "      <td>4</td>\n",
              "      <td>1</td>\n",
              "    </tr>\n",
              "    <tr>\n",
              "      <th>102</th>\n",
              "      <td>4320</td>\n",
              "      <td>1</td>\n",
              "      <td>3</td>\n",
              "      <td>0</td>\n",
              "    </tr>\n",
              "  </tbody>\n",
              "</table>\n",
              "<p>409 rows × 4 columns</p>\n",
              "</div>"
            ],
            "text/plain": [
              "     lotsize  bathrms  bedrooms  airco\n",
              "167     2800        1         3      0\n",
              "368    16200        3         5      0\n",
              "301     8080        1         3      1\n",
              "493     8400        1         2      0\n",
              "382    13200        1         3      1\n",
              "..       ...      ...       ...    ...\n",
              "71      3150        1         3      0\n",
              "106     3720        1         2      1\n",
              "270     3640        2         3      0\n",
              "435     5300        2         4      1\n",
              "102     4320        1         3      0\n",
              "\n",
              "[409 rows x 4 columns]"
            ]
          },
          "metadata": {},
          "execution_count": 16
        }
      ]
    },
    {
      "cell_type": "code",
      "metadata": {
        "colab": {
          "base_uri": "https://localhost:8080/",
          "height": 423
        },
        "id": "-F6RFfOm12lK",
        "outputId": "278d79cb-3496-4518-f6cc-3c50cb713720"
      },
      "source": [
        "x_test"
      ],
      "execution_count": null,
      "outputs": [
        {
          "output_type": "execute_result",
          "data": {
            "text/html": [
              "<div>\n",
              "<style scoped>\n",
              "    .dataframe tbody tr th:only-of-type {\n",
              "        vertical-align: middle;\n",
              "    }\n",
              "\n",
              "    .dataframe tbody tr th {\n",
              "        vertical-align: top;\n",
              "    }\n",
              "\n",
              "    .dataframe thead th {\n",
              "        text-align: right;\n",
              "    }\n",
              "</style>\n",
              "<table border=\"1\" class=\"dataframe\">\n",
              "  <thead>\n",
              "    <tr style=\"text-align: right;\">\n",
              "      <th></th>\n",
              "      <th>lotsize</th>\n",
              "      <th>bathrms</th>\n",
              "      <th>bedrooms</th>\n",
              "      <th>airco</th>\n",
              "    </tr>\n",
              "  </thead>\n",
              "  <tbody>\n",
              "    <tr>\n",
              "      <th>316</th>\n",
              "      <td>5000</td>\n",
              "      <td>1</td>\n",
              "      <td>3</td>\n",
              "      <td>0</td>\n",
              "    </tr>\n",
              "    <tr>\n",
              "      <th>77</th>\n",
              "      <td>3180</td>\n",
              "      <td>1</td>\n",
              "      <td>4</td>\n",
              "      <td>1</td>\n",
              "    </tr>\n",
              "    <tr>\n",
              "      <th>360</th>\n",
              "      <td>6600</td>\n",
              "      <td>2</td>\n",
              "      <td>4</td>\n",
              "      <td>1</td>\n",
              "    </tr>\n",
              "    <tr>\n",
              "      <th>90</th>\n",
              "      <td>6060</td>\n",
              "      <td>1</td>\n",
              "      <td>3</td>\n",
              "      <td>0</td>\n",
              "    </tr>\n",
              "    <tr>\n",
              "      <th>495</th>\n",
              "      <td>5985</td>\n",
              "      <td>1</td>\n",
              "      <td>3</td>\n",
              "      <td>0</td>\n",
              "    </tr>\n",
              "    <tr>\n",
              "      <th>...</th>\n",
              "      <td>...</td>\n",
              "      <td>...</td>\n",
              "      <td>...</td>\n",
              "      <td>...</td>\n",
              "    </tr>\n",
              "    <tr>\n",
              "      <th>172</th>\n",
              "      <td>2430</td>\n",
              "      <td>1</td>\n",
              "      <td>3</td>\n",
              "      <td>0</td>\n",
              "    </tr>\n",
              "    <tr>\n",
              "      <th>124</th>\n",
              "      <td>4120</td>\n",
              "      <td>1</td>\n",
              "      <td>2</td>\n",
              "      <td>0</td>\n",
              "    </tr>\n",
              "    <tr>\n",
              "      <th>388</th>\n",
              "      <td>6540</td>\n",
              "      <td>1</td>\n",
              "      <td>3</td>\n",
              "      <td>0</td>\n",
              "    </tr>\n",
              "    <tr>\n",
              "      <th>460</th>\n",
              "      <td>2145</td>\n",
              "      <td>1</td>\n",
              "      <td>3</td>\n",
              "      <td>0</td>\n",
              "    </tr>\n",
              "    <tr>\n",
              "      <th>505</th>\n",
              "      <td>4800</td>\n",
              "      <td>1</td>\n",
              "      <td>2</td>\n",
              "      <td>0</td>\n",
              "    </tr>\n",
              "  </tbody>\n",
              "</table>\n",
              "<p>137 rows × 4 columns</p>\n",
              "</div>"
            ],
            "text/plain": [
              "     lotsize  bathrms  bedrooms  airco\n",
              "316     5000        1         3      0\n",
              "77      3180        1         4      1\n",
              "360     6600        2         4      1\n",
              "90      6060        1         3      0\n",
              "495     5985        1         3      0\n",
              "..       ...      ...       ...    ...\n",
              "172     2430        1         3      0\n",
              "124     4120        1         2      0\n",
              "388     6540        1         3      0\n",
              "460     2145        1         3      0\n",
              "505     4800        1         2      0\n",
              "\n",
              "[137 rows x 4 columns]"
            ]
          },
          "metadata": {},
          "execution_count": 17
        }
      ]
    },
    {
      "cell_type": "code",
      "metadata": {
        "colab": {
          "base_uri": "https://localhost:8080/",
          "height": 423
        },
        "id": "EneXdbjG13VB",
        "outputId": "99b36242-723c-42df-aca7-5ac98d0022c1"
      },
      "source": [
        "y_train"
      ],
      "execution_count": null,
      "outputs": [
        {
          "output_type": "execute_result",
          "data": {
            "text/html": [
              "<div>\n",
              "<style scoped>\n",
              "    .dataframe tbody tr th:only-of-type {\n",
              "        vertical-align: middle;\n",
              "    }\n",
              "\n",
              "    .dataframe tbody tr th {\n",
              "        vertical-align: top;\n",
              "    }\n",
              "\n",
              "    .dataframe thead th {\n",
              "        text-align: right;\n",
              "    }\n",
              "</style>\n",
              "<table border=\"1\" class=\"dataframe\">\n",
              "  <thead>\n",
              "    <tr style=\"text-align: right;\">\n",
              "      <th></th>\n",
              "      <th>price</th>\n",
              "    </tr>\n",
              "  </thead>\n",
              "  <tbody>\n",
              "    <tr>\n",
              "      <th>167</th>\n",
              "      <td>38000.0</td>\n",
              "    </tr>\n",
              "    <tr>\n",
              "      <th>368</th>\n",
              "      <td>145000.0</td>\n",
              "    </tr>\n",
              "    <tr>\n",
              "      <th>301</th>\n",
              "      <td>56000.0</td>\n",
              "    </tr>\n",
              "    <tr>\n",
              "      <th>493</th>\n",
              "      <td>54000.0</td>\n",
              "    </tr>\n",
              "    <tr>\n",
              "      <th>382</th>\n",
              "      <td>140000.0</td>\n",
              "    </tr>\n",
              "    <tr>\n",
              "      <th>...</th>\n",
              "      <td>...</td>\n",
              "    </tr>\n",
              "    <tr>\n",
              "      <th>71</th>\n",
              "      <td>51000.0</td>\n",
              "    </tr>\n",
              "    <tr>\n",
              "      <th>106</th>\n",
              "      <td>48000.0</td>\n",
              "    </tr>\n",
              "    <tr>\n",
              "      <th>270</th>\n",
              "      <td>60000.0</td>\n",
              "    </tr>\n",
              "    <tr>\n",
              "      <th>435</th>\n",
              "      <td>75000.0</td>\n",
              "    </tr>\n",
              "    <tr>\n",
              "      <th>102</th>\n",
              "      <td>125000.0</td>\n",
              "    </tr>\n",
              "  </tbody>\n",
              "</table>\n",
              "<p>409 rows × 1 columns</p>\n",
              "</div>"
            ],
            "text/plain": [
              "        price\n",
              "167   38000.0\n",
              "368  145000.0\n",
              "301   56000.0\n",
              "493   54000.0\n",
              "382  140000.0\n",
              "..        ...\n",
              "71    51000.0\n",
              "106   48000.0\n",
              "270   60000.0\n",
              "435   75000.0\n",
              "102  125000.0\n",
              "\n",
              "[409 rows x 1 columns]"
            ]
          },
          "metadata": {},
          "execution_count": 18
        }
      ]
    },
    {
      "cell_type": "code",
      "metadata": {
        "colab": {
          "base_uri": "https://localhost:8080/",
          "height": 423
        },
        "id": "o7sBp8hC1_FJ",
        "outputId": "5e76d3c5-887d-49d2-ae64-c36f40f1f9eb"
      },
      "source": [
        "y_test"
      ],
      "execution_count": null,
      "outputs": [
        {
          "output_type": "execute_result",
          "data": {
            "text/html": [
              "<div>\n",
              "<style scoped>\n",
              "    .dataframe tbody tr th:only-of-type {\n",
              "        vertical-align: middle;\n",
              "    }\n",
              "\n",
              "    .dataframe tbody tr th {\n",
              "        vertical-align: top;\n",
              "    }\n",
              "\n",
              "    .dataframe thead th {\n",
              "        text-align: right;\n",
              "    }\n",
              "</style>\n",
              "<table border=\"1\" class=\"dataframe\">\n",
              "  <thead>\n",
              "    <tr style=\"text-align: right;\">\n",
              "      <th></th>\n",
              "      <th>price</th>\n",
              "    </tr>\n",
              "  </thead>\n",
              "  <tbody>\n",
              "    <tr>\n",
              "      <th>316</th>\n",
              "      <td>80000.0</td>\n",
              "    </tr>\n",
              "    <tr>\n",
              "      <th>77</th>\n",
              "      <td>47000.0</td>\n",
              "    </tr>\n",
              "    <tr>\n",
              "      <th>360</th>\n",
              "      <td>130000.0</td>\n",
              "    </tr>\n",
              "    <tr>\n",
              "      <th>90</th>\n",
              "      <td>47000.0</td>\n",
              "    </tr>\n",
              "    <tr>\n",
              "      <th>495</th>\n",
              "      <td>59000.0</td>\n",
              "    </tr>\n",
              "    <tr>\n",
              "      <th>...</th>\n",
              "      <td>...</td>\n",
              "    </tr>\n",
              "    <tr>\n",
              "      <th>172</th>\n",
              "      <td>38000.0</td>\n",
              "    </tr>\n",
              "    <tr>\n",
              "      <th>124</th>\n",
              "      <td>70000.0</td>\n",
              "    </tr>\n",
              "    <tr>\n",
              "      <th>388</th>\n",
              "      <td>85000.0</td>\n",
              "    </tr>\n",
              "    <tr>\n",
              "      <th>460</th>\n",
              "      <td>47600.0</td>\n",
              "    </tr>\n",
              "    <tr>\n",
              "      <th>505</th>\n",
              "      <td>71900.0</td>\n",
              "    </tr>\n",
              "  </tbody>\n",
              "</table>\n",
              "<p>137 rows × 1 columns</p>\n",
              "</div>"
            ],
            "text/plain": [
              "        price\n",
              "316   80000.0\n",
              "77    47000.0\n",
              "360  130000.0\n",
              "90    47000.0\n",
              "495   59000.0\n",
              "..        ...\n",
              "172   38000.0\n",
              "124   70000.0\n",
              "388   85000.0\n",
              "460   47600.0\n",
              "505   71900.0\n",
              "\n",
              "[137 rows x 1 columns]"
            ]
          },
          "metadata": {},
          "execution_count": 19
        }
      ]
    },
    {
      "cell_type": "markdown",
      "metadata": {
        "id": "2kDWUPvV70-f"
      },
      "source": [
        "**Fitting data in model**"
      ]
    },
    {
      "cell_type": "code",
      "metadata": {
        "id": "yxlZuneYhesy"
      },
      "source": [
        "from sklearn.linear_model import LinearRegression"
      ],
      "execution_count": null,
      "outputs": []
    },
    {
      "cell_type": "code",
      "metadata": {
        "colab": {
          "base_uri": "https://localhost:8080/"
        },
        "id": "fNKpNbz4f6Bn",
        "outputId": "4cf8aca1-0951-4392-a491-c4d9c4be4540"
      },
      "source": [
        "#reg = LinearRegression().fit(scaledX,y)\n",
        "\n",
        "reg = LinearRegression().fit(x_train, y_train)\n",
        "reg.score(x_train,y_train)"
      ],
      "execution_count": null,
      "outputs": [
        {
          "output_type": "execute_result",
          "data": {
            "text/plain": [
              "0.5356013484597608"
            ]
          },
          "metadata": {},
          "execution_count": 21
        }
      ]
    },
    {
      "cell_type": "markdown",
      "metadata": {
        "id": "NVwr3Re98E6V"
      },
      "source": [
        "**Prediction of data**"
      ]
    },
    {
      "cell_type": "code",
      "metadata": {
        "id": "yS7mCSBrLr0m",
        "colab": {
          "base_uri": "https://localhost:8080/"
        },
        "outputId": "eb87eaf6-f9f8-4afd-8021-74dabee0bd0f"
      },
      "source": [
        "y_train_pred = reg.predict(x_train).sum(axis=1)\n",
        "y_train_pred"
      ],
      "execution_count": null,
      "outputs": [
        {
          "output_type": "execute_result",
          "data": {
            "text/plain": [
              "array([ 47223.5400766 , 156395.49988197,  88411.20956624,  69417.83009817,\n",
              "       113530.25689736,  60117.41929569,  48027.39135526,  85822.29422255,\n",
              "        50755.90610754,  64198.14746531,  93415.76416738,  45261.11450385,\n",
              "        67829.37798105,  53110.81679483, 102620.28330972,  46064.96578251,\n",
              "        56809.24579329,  77022.5985832 ,  48793.48053479,  42925.08486612,\n",
              "        83858.38223748,  61530.36570806,  68810.22137678,  54307.15318804,\n",
              "        46040.43546285,  72636.95124363,  51884.30081186,  95598.06922603,\n",
              "        85981.44513829,  79972.77960344,  71221.10475517,  74949.71334338,\n",
              "        54092.0295812 ,  44010.06820123,  87264.303203  ,  85540.26877507,\n",
              "        52963.63487687,  52540.97017257,  64277.76150991,  82254.09933176,\n",
              "        73496.77521339,  42925.08486612,  76176.22932635,  56624.3017762 ,\n",
              "        61568.12780719,  88264.02764829,  49842.63501004,  50559.66355026,\n",
              "        50412.48163231,  47507.34857848,  78334.89745637,  94642.28015035,\n",
              "        79358.62822093,  69179.43895335,  51933.36145118,  44083.65916021,\n",
              "        79707.70196625,  63488.40479239,  49676.57204253,  63100.30616626,\n",
              "        44347.84340636,  63904.52683557,  66111.88621426,  45868.72322524,\n",
              "        48057.57094501,  48419.87646981,  52914.57423755, 101878.72444984,\n",
              "        58389.74158551,  98786.64139109,  48793.48053479,  70847.50069018,\n",
              "        42925.08486612,  41453.26568656,  46849.93601161,  53895.78702393,\n",
              "        53061.75615551,  86483.71946232,  64640.43642535,  74134.56352453,\n",
              "        68678.87024743, 108164.13555272,  71018.31953676,  64983.49150993,\n",
              "       102571.2226704 , 103281.33915884,  70803.19592993,  67731.25670242,\n",
              "       114640.13994278,  87655.52553587,  70847.50069018,  43808.17637386,\n",
              "        73967.75735085,  89981.15002444,  45378.11683205,  44220.28574413,\n",
              "        80169.02216072,  90569.87769626,  46487.63048682, 103595.47743535,\n",
              "        72926.92859113,  92562.85224941,  43832.70669352,  56658.42059308,\n",
              "        69909.17969752,  77027.87846265,  66432.04315151,  73961.58850523,\n",
              "        82180.87776343,  44102.54020977,  46604.63281502,  70410.34142473,\n",
              "        50284.18076391,  90452.87536806,  62304.40678761,  97095.31211628,\n",
              "        54680.75725302,  82494.1226489 ,  52914.57423755,  83774.0857596 ,\n",
              "        76636.65612978,  72373.13638812, 105680.92399703,  49235.02628866,\n",
              "        53110.81679483,  84638.29621777,  92887.02628443,  67358.76965911,\n",
              "        93788.99884172,  64689.12767402,  46291.38792954,  53110.81679483,\n",
              "        68202.61265539,  67829.00859041,  50755.90610754,  59979.30629943,\n",
              "        47988.1428438 ,  51884.30081186,  87773.79064575,  96359.4025265 ,\n",
              "        45261.11450385,  50284.18076391,  54944.94149918,  53110.81679483,\n",
              "        46064.96578251,  77641.13645413,  50412.48163231,  55877.09364623,\n",
              "        94642.28015035,  96978.30978808,  78697.20298116,  47487.72432275,\n",
              "        97095.31211628,  59440.90204861,  97468.91618127,  71999.53232314,\n",
              "        83866.93158366,  78206.59658797,  57231.91049759,  93728.63966221,\n",
              "        73961.58850523,  50284.18076391,  53484.42085981, 101099.40349084,\n",
              "        73961.58850523,  54680.75725302,  48027.39135526,  84245.96128809,\n",
              "        49793.57437073,  50706.84546822,  65843.31547969,  45279.99555341,\n",
              "        70184.28866835, 101707.01221223,  85124.1467319 ,  97585.91850947,\n",
              "        67113.24283187,  75753.56462204,  76101.74497633,  79720.56435507,\n",
              "        69022.29472266,  76905.596255  ,  50706.84546822,  87773.79064575,\n",
              "        60469.91269262, 108771.74427411,  71194.56844766,  59586.82118488,\n",
              "        47831.14879798,  87581.93457689,  64266.46296971,  48027.39135526,\n",
              "        45279.99555341,  87581.93457689,  82435.62369724,  73300.53265611,\n",
              "        56722.42305484,  53498.39584545,  68246.02402462,  96702.82700173,\n",
              "        81566.35699026,  48204.75286297,  54699.63830259,  42404.29888318,\n",
              "        53307.0593521 ,  72636.95124363,  48793.48053479,  73300.53265611,\n",
              "        54926.06044962,  54827.93917098,  46064.96578251,  52374.90720505,\n",
              "        72202.31754154,  49793.57437073,  82841.93361255,  54661.87620346,\n",
              "        93661.06736398,  80904.9317505 ,  53336.49573569, 108379.25915956,\n",
              "        94642.28015035,  45997.02409363,  70964.50301838,  44010.06820123,\n",
              "        67976.55989901,  50167.17843571,  79849.23461411,  52374.90720505,\n",
              "        79801.06736583,  38019.02093426,  48695.35925615,  75753.56462204,\n",
              "        61322.8246106 ,  80561.50727527,  56888.48602236,  60445.38237296,\n",
              "        59783.06374216,  52953.82274901,  41826.86975155,  65567.83269334,\n",
              "        63488.40479239,  46015.90514319,  77279.20031998,  96990.65260138,\n",
              "        89710.0537265 ,  68768.07278924,  61568.12780719,  58881.09118486,\n",
              "        68875.11280471,  52325.84656573,  67829.00859041,  84185.08253306,\n",
              "        65523.52793308,  43372.27989009,  70945.62196882,  57624.39561214,\n",
              "        50755.90610754,  44893.15970896,  73398.65393475,  85320.75867982,\n",
              "       114516.2255628 ,  87876.2984128 ,  60156.66780714,  47159.76124548,\n",
              "        59409.45967717,  93273.33812849,  62192.68433887,  87283.18425256,\n",
              "        62212.08496394,  67700.70772202,  49087.8443707 ,  76734.77740841,\n",
              "        43053.38573452,  45378.11683205,  43263.60327742,  46015.90514319,\n",
              "        51510.69674688,  65866.58301766,  48646.29861684,  47831.14879798,\n",
              "        61322.8246106 ,  45868.72322524,  96997.19083764,  51148.39122208,\n",
              "        89843.78023434,  67824.62210199,  71553.23069021,  77108.3814734 ,\n",
              "        65258.97429628,  68613.97881951,  44691.26788159, 107281.04404499,\n",
              "        47763.2071091 , 116719.56784372,  94642.28015035,  42876.0242268 ,\n",
              "        64488.49862833,  84638.29621777,  87577.54808847,  94642.28015035,\n",
              "        57035.66794032,  87056.39271488,  70847.50069018,  65749.58068946,\n",
              "        48223.63391253,  45868.72322524,  63257.8197876 ,  51859.7704922 ,\n",
              "        84830.15228663,  55839.33154711,  99921.9481472 , 101073.97978015,\n",
              "        97585.91850947,  62726.70210127,  55563.84876076,  48076.45199457,\n",
              "       118437.05961052,  56575.24113689,  49548.27117413,  46732.93368341,\n",
              "        43832.70669352,  57937.64049761,  61911.92167307,  72319.31986974,\n",
              "        44010.06820123,  52129.60400846,  94642.28015035,  53503.30190938,\n",
              "        81860.35143553,  76774.76912603,  94891.60044471,  88128.51366117,\n",
              "        68202.61265539, 119011.29272119,  48940.66245275,  87037.51166532,\n",
              "        51295.57314004,  91335.96687579,  57643.2766617 ,  50774.7871571 ,\n",
              "        53307.0593521 ,  88018.72445169,  47831.14879798,  77951.48126352,\n",
              "        81150.23494709,  49921.87523912,  62922.94465855,  69571.9240679 ,\n",
              "        74826.16835405,  59409.45967717,  45476.23811069,  48027.39135526,\n",
              "        45436.98959923,  63168.24785514,  75636.56229384, 114640.13994278,\n",
              "        84147.68982459,  52620.21040164,  90472.12580827,  88459.5269994 ,\n",
              "        52374.90720505,  46064.96578251,  58208.73679555,  47616.02519114,\n",
              "        84516.53801051,  42925.08486612,  83210.78179847,  64757.43875354,\n",
              "        65499.89100446,  99548.34408221,  81934.31178515,  51933.36145118,\n",
              "       102628.8326559 ,  57428.15305486,  83112.66051983,  89906.66567442,\n",
              "        46109.1203579 ,  71024.86219789,  85884.43645646,  56280.13409481,\n",
              "        55073.24236757,  66210.00749289,  72765.25211202,  77328.2609593 ,\n",
              "        76905.596255  ,  44010.06820123,  64283.18714935,  79678.41576753,\n",
              "        61299.55707262,  67338.40219722,  74772.35183567,  63021.06593719,\n",
              "        76905.596255  ,  71945.71580475,  51952.24250074,  42115.58431737,\n",
              "       101688.13116267,  80659.99794455,  45251.30237599, 100308.78399165,\n",
              "        55937.45282574,  47498.27965678, 106715.58391114,  72245.72891076,\n",
              "        48940.66245275,  61741.10282649,  67780.31734174,  96487.70339489,\n",
              "        54680.75725302])"
            ]
          },
          "metadata": {},
          "execution_count": 22
        }
      ]
    },
    {
      "cell_type": "code",
      "metadata": {
        "id": "EQsBZsNXJ_SC",
        "colab": {
          "base_uri": "https://localhost:8080/"
        },
        "outputId": "51ed1ceb-d391-4b6b-c196-c9a9c07bf0b7"
      },
      "source": [
        "y_test_pred = reg.predict(x_test).sum(axis=1)\n",
        "y_test_pred"
      ],
      "execution_count": null,
      "outputs": [
        {
          "output_type": "execute_result",
          "data": {
            "text/plain": [
              "array([ 58016.88072669,  69651.16429697, 102865.58650631,  63217.30849446,\n",
              "        62849.35369957,  52914.57423755,  65258.97429628,  50412.48163231,\n",
              "        99921.9481472 ,  57054.54898988,  68957.77268538,  79977.16609186,\n",
              "        47616.02519114,  42287.29655498,  78206.59658797,  93788.99884172,\n",
              "        75085.59672114,  45966.84450388,  97223.61298467,  62334.21698672,\n",
              "        37214.42644944,  60396.69112429,  91114.30060783,  48381.37116452,\n",
              "        61941.73187218,  48499.11669888,  59931.50844179,  60824.63570804,\n",
              "       100529.55686858,  58065.94136601,  48297.22487151,  67829.00859041,\n",
              "        74693.1116066 ,  94427.15654351,  67946.01091861,  57152.67026852,\n",
              "        41158.90185065,  63119.18721582,  65866.58301766,  99921.9481472 ,\n",
              "        53391.94885127,  99484.78888174,  41581.56655496,  51001.20930413,\n",
              "        78697.20298116,  50412.48163231,  49382.20820661,  65983.58534586,\n",
              "        45790.22620233,  88755.00343212,  45378.11683205,  79033.71540461,\n",
              "        77641.13645413,  87698.93690509,  48076.45199457,  88189.54329827,\n",
              "        92189.24818442,  73300.53265611,  66628.28570878,  86629.41496794,\n",
              "        48204.75286297,  80682.89609188,  78942.8755684 ,  59489.06929689,\n",
              "        42483.53911225,  46751.81473297,  45629.06929874,  44985.6317175 ,\n",
              "        65940.17397664,  60243.85993623, 106888.55893044,  84030.68749639,\n",
              "        86857.3235273 ,  51393.69441868,  94642.28015035,  49087.8443707 ,\n",
              "        79781.4431101 ,  57370.02349385,  55755.70482962,  96774.78578838,\n",
              "        57133.78921895,  71980.65127357,  74413.31577761,  56907.36707192,\n",
              "        38882.48818627,  50284.18076391,  66455.31068949,  72362.73123896,\n",
              "        62187.03506877,  42925.08486612,  52246.60633666,  68394.46872425,\n",
              "        92966.93697109,  54778.87853166,  43366.63061999,  84830.15228663,\n",
              "        52374.90720505,  48204.75286297,  82547.93916728,  61334.12315079,\n",
              "        65725.41976045,  39853.14563861,  45574.35938933,  51148.39122208,\n",
              "        59116.35862294,  96702.82700173,  60096.67801828,  84166.94026479,\n",
              "        84442.42305114,  43121.3274234 , 106907.43998   ,  66327.00982109,\n",
              "        96408.46316582,  79683.17164659,  66987.39521262,  78206.59658797,\n",
              "        80094.16842006,  74281.74544248, 129015.27665377, 125304.81033383,\n",
              "        99921.9481472 ,  48027.39135526,  80267.14343935, 102571.2226704 ,\n",
              "        53478.77158972,  94642.28015035,  54680.75725302,  86423.3602828 ,\n",
              "        68860.54479778, 147315.26451026,  47095.2392082 ,  57526.2743335 ,\n",
              "        45408.29642181,  48419.87646981,  65572.21918175,  44010.06820123,\n",
              "        51755.99994347])"
            ]
          },
          "metadata": {},
          "execution_count": 23
        }
      ]
    },
    {
      "cell_type": "markdown",
      "metadata": {
        "id": "k525yrOIAmVw"
      },
      "source": [
        "**Regression Intercept**"
      ]
    },
    {
      "cell_type": "code",
      "metadata": {
        "colab": {
          "base_uri": "https://localhost:8080/"
        },
        "id": "YvnFK0jEAd1C",
        "outputId": "4212e8d0-e928-49a7-f15c-24cc891fe41b"
      },
      "source": [
        "print('Regression intercept : ',reg.intercept_)"
      ],
      "execution_count": null,
      "outputs": [
        {
          "output_type": "stream",
          "name": "stdout",
          "text": [
            "Regression intercept :  [1211.87351447]\n"
          ]
        }
      ]
    },
    {
      "cell_type": "markdown",
      "metadata": {
        "id": "WKxSSYTL14j8"
      },
      "source": [
        "**Regression coefficient**"
      ]
    },
    {
      "cell_type": "code",
      "metadata": {
        "colab": {
          "base_uri": "https://localhost:8080/"
        },
        "id": "se2avoL26hoe",
        "outputId": "50368cb0-33d8-4b1a-bb1f-42401725e664"
      },
      "source": [
        "print('Regression Coefficients: ', reg.coef_)"
      ],
      "execution_count": null,
      "outputs": [
        {
          "output_type": "stream",
          "name": "stdout",
          "text": [
            "Regression Coefficients:  [[4.90606393e+00 1.64356836e+04 5.27966800e+03 1.52836519e+04]]\n"
          ]
        }
      ]
    },
    {
      "cell_type": "markdown",
      "metadata": {
        "id": "qr5sRHHtM9pL"
      },
      "source": [
        "**Calculating MSE**"
      ]
    },
    {
      "cell_type": "code",
      "metadata": {
        "id": "id_2juyO9Arx"
      },
      "source": [
        "from sklearn.metrics import mean_squared_error, r2_score"
      ],
      "execution_count": null,
      "outputs": []
    },
    {
      "cell_type": "code",
      "metadata": {
        "colab": {
          "base_uri": "https://localhost:8080/"
        },
        "id": "QL_Raoo3Kndl",
        "outputId": "2498e6f4-f344-4850-8e1b-42f1f699bfb4"
      },
      "source": [
        "print('MSE test: ', mean_squared_error(y_test, y_test_pred))"
      ],
      "execution_count": null,
      "outputs": [
        {
          "output_type": "stream",
          "name": "stdout",
          "text": [
            "MSE test:  304608782.4691443\n"
          ]
        }
      ]
    },
    {
      "cell_type": "code",
      "metadata": {
        "colab": {
          "base_uri": "https://localhost:8080/"
        },
        "id": "evMS5IxcL8UU",
        "outputId": "2d123b83-1729-4d25-f5df-77bc2b35f708"
      },
      "source": [
        "print('MSE train: ', mean_squared_error(y_train, y_train_pred))"
      ],
      "execution_count": null,
      "outputs": [
        {
          "output_type": "stream",
          "name": "stdout",
          "text": [
            "MSE train:  316779660.3845579\n"
          ]
        }
      ]
    },
    {
      "cell_type": "markdown",
      "metadata": {
        "id": "yvUqC9UiNFHp"
      },
      "source": [
        "**Calculating R2**"
      ]
    },
    {
      "cell_type": "code",
      "metadata": {
        "colab": {
          "base_uri": "https://localhost:8080/"
        },
        "id": "YGxD0VmyMGI2",
        "outputId": "4e5f8c1e-7df9-4f62-c3cc-4ec462164788"
      },
      "source": [
        "print('R^2 train: ', r2_score(y_train, y_train_pred))"
      ],
      "execution_count": null,
      "outputs": [
        {
          "output_type": "stream",
          "name": "stdout",
          "text": [
            "R^2 train:  0.5356013484597608\n"
          ]
        }
      ]
    },
    {
      "cell_type": "code",
      "metadata": {
        "colab": {
          "base_uri": "https://localhost:8080/"
        },
        "id": "g1L1IfXbMcr1",
        "outputId": "4f0ff2dc-4c67-4280-e484-61268e47c1d0"
      },
      "source": [
        "print('R^2 test: ', r2_score(y_test, y_test_pred))"
      ],
      "execution_count": null,
      "outputs": [
        {
          "output_type": "stream",
          "name": "stdout",
          "text": [
            "R^2 test:  0.6192615383062394\n"
          ]
        }
      ]
    },
    {
      "cell_type": "markdown",
      "metadata": {
        "id": "rNrjK4cRyvGf"
      },
      "source": [
        "**Summery of model**"
      ]
    },
    {
      "cell_type": "code",
      "metadata": {
        "colab": {
          "base_uri": "https://localhost:8080/"
        },
        "id": "RivxAdTgvf5g",
        "outputId": "e3192928-2ba9-4d38-8cd8-d01fc27aafd8"
      },
      "source": [
        "import statsmodels.api as sm\n",
        "res=sm.OLS(y,x).fit()\n",
        "print(res.summary())"
      ],
      "execution_count": null,
      "outputs": [
        {
          "output_type": "stream",
          "name": "stderr",
          "text": [
            "/usr/local/lib/python3.7/dist-packages/statsmodels/tools/_testing.py:19: FutureWarning: pandas.util.testing is deprecated. Use the functions in the public API at pandas.testing instead.\n",
            "  import pandas.util.testing as tm\n"
          ]
        },
        {
          "output_type": "stream",
          "name": "stdout",
          "text": [
            "                                 OLS Regression Results                                \n",
            "=======================================================================================\n",
            "Dep. Variable:                  price   R-squared (uncentered):                   0.942\n",
            "Model:                            OLS   Adj. R-squared (uncentered):              0.941\n",
            "Method:                 Least Squares   F-statistic:                              2182.\n",
            "Date:                Tue, 28 Sep 2021   Prob (F-statistic):                        0.00\n",
            "Time:                        06:28:15   Log-Likelihood:                         -6115.1\n",
            "No. Observations:                 546   AIC:                                  1.224e+04\n",
            "Df Residuals:                     542   BIC:                                  1.226e+04\n",
            "Df Model:                           4                                                  \n",
            "Covariance Type:            nonrobust                                                  \n",
            "==============================================================================\n",
            "                 coef    std err          t      P>|t|      [0.025      0.975]\n",
            "------------------------------------------------------------------------------\n",
            "lotsize        4.7904      0.340     14.085      0.000       4.122       5.458\n",
            "bathrms     1.808e+04   1627.895     11.104      0.000    1.49e+04    2.13e+04\n",
            "bedrooms    5072.3235    813.770      6.233      0.000    3473.795    6670.852\n",
            "airco       1.621e+04   1692.476      9.575      0.000    1.29e+04    1.95e+04\n",
            "==============================================================================\n",
            "Omnibus:                       87.586   Durbin-Watson:                   1.524\n",
            "Prob(Omnibus):                  0.000   Jarque-Bera (JB):              193.083\n",
            "Skew:                           0.865   Prob(JB):                     1.18e-42\n",
            "Kurtosis:                       5.344   Cond. No.                     1.31e+04\n",
            "==============================================================================\n",
            "\n",
            "Warnings:\n",
            "[1] Standard Errors assume that the covariance matrix of the errors is correctly specified.\n",
            "[2] The condition number is large, 1.31e+04. This might indicate that there are\n",
            "strong multicollinearity or other numerical problems.\n"
          ]
        }
      ]
    },
    {
      "cell_type": "code",
      "metadata": {
        "id": "Sx9-zEFFvgCX",
        "colab": {
          "base_uri": "https://localhost:8080/",
          "height": 351
        },
        "outputId": "a42d4e4e-eae9-46a4-e3a7-939dd6c5c8d3"
      },
      "source": [
        "sns.regplot(y_train,y_train_pred,color='red')"
      ],
      "execution_count": null,
      "outputs": [
        {
          "output_type": "stream",
          "name": "stderr",
          "text": [
            "/usr/local/lib/python3.7/dist-packages/seaborn/_decorators.py:43: FutureWarning: Pass the following variables as keyword args: x, y. From version 0.12, the only valid positional argument will be `data`, and passing other arguments without an explicit keyword will result in an error or misinterpretation.\n",
            "  FutureWarning\n"
          ]
        },
        {
          "output_type": "execute_result",
          "data": {
            "text/plain": [
              "<matplotlib.axes._subplots.AxesSubplot at 0x7fdef9cb44d0>"
            ]
          },
          "metadata": {},
          "execution_count": 32
        },
        {
          "output_type": "display_data",
          "data": {
            "image/png": "[encoded data removed]",
            "text/plain": [
              "<Figure size 432x288 with 1 Axes>"
            ]
          },
          "metadata": {
            "needs_background": "light"
          }
        }
      ]
    }
  ]
}